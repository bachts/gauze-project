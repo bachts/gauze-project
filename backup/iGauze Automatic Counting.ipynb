{
 "cells": [
  {
   "cell_type": "markdown",
   "id": "010f3dab",
   "metadata": {},
   "source": [
    "# 1. Install Dependencies"
   ]
  },
  {
   "cell_type": "code",
   "execution_count": null,
   "id": "9f3068db",
   "metadata": {},
   "outputs": [],
   "source": [
    "!pip3 install torch torchvision torchaudio"
   ]
  },
  {
   "cell_type": "code",
   "execution_count": null,
   "id": "8cc14d69",
   "metadata": {},
   "outputs": [],
   "source": [
    "#YOLOv5\n",
    "!git clone https://github.com/ultralytics/yolov5"
   ]
  },
  {
   "cell_type": "code",
   "execution_count": null,
   "id": "f5faf5f3",
   "metadata": {},
   "outputs": [],
   "source": [
    "!cd yolov5 & pip install -r requirements.txt"
   ]
  },
  {
   "cell_type": "code",
   "execution_count": null,
   "id": "8ef08930",
   "metadata": {},
   "outputs": [],
   "source": [
    "#YOLPv7\n",
    "!git clone https://github.com/WongKinYiu/yolov7"
   ]
  },
  {
   "cell_type": "code",
   "execution_count": null,
   "id": "db04f2ab",
   "metadata": {},
   "outputs": [],
   "source": [
    "!cd yolov7 & pip install -r requirements.txt"
   ]
  },
  {
   "cell_type": "code",
   "execution_count": 1,
   "id": "6b8bde1c",
   "metadata": {},
   "outputs": [],
   "source": [
    "import torch\n",
    "from matplotlib import pyplot as plt\n",
    "import numpy as np\n",
    "import cv2\n",
    "import uuid   # Unique identifier\n",
    "import os\n",
    "import time"
   ]
  },
  {
   "cell_type": "markdown",
   "id": "fbcb462c",
   "metadata": {},
   "source": [
    "# 2. Load & Configure Model via PyTorch"
   ]
  },
  {
   "cell_type": "code",
   "execution_count": 2,
   "id": "cf097658",
   "metadata": {},
   "outputs": [
    {
     "name": "stderr",
     "output_type": "stream",
     "text": [
      "Using cache found in C:\\Users\\leeju/.cache\\torch\\hub\\ultralytics_yolov5_master\n",
      "YOLOv5  2022-12-18 Python-3.8.15 torch-1.10.0+cu102 CUDA:0 (NVIDIA GeForce GTX 1650, 4096MiB)\n",
      "\n",
      "Fusing layers... \n",
      "YOLOv5x6 summary: 574 layers, 140730220 parameters, 0 gradients, 209.6 GFLOPs\n",
      "Adding AutoShape... \n"
     ]
    }
   ],
   "source": [
    "#YOLOv5\n",
    "model = torch.hub.load('ultralytics/yolov5', 'yolov5x6')"
   ]
  },
  {
   "cell_type": "code",
   "execution_count": null,
   "id": "86445cbb",
   "metadata": {},
   "outputs": [],
   "source": [
    "#YOLOv7\n",
    "model = torch.hub.load(\"WongKinYiu/yolov7\", 'yolov7')"
   ]
  },
  {
   "cell_type": "code",
   "execution_count": 3,
   "id": "ae8e6df1",
   "metadata": {},
   "outputs": [],
   "source": [
    "model.conf = 0.40\n",
    "model.max_det = 20\n",
    "model.classes = [0,67]"
   ]
  },
  {
   "cell_type": "markdown",
   "id": "9b7365c1",
   "metadata": {},
   "source": [
    "# 3.1 Image Detection"
   ]
  },
  {
   "cell_type": "code",
   "execution_count": null,
   "id": "54e54a0b",
   "metadata": {},
   "outputs": [],
   "source": [
    "img = 'https://www.shutterstock.com/image-photo/sao-paulo-brazil-may-07-260nw-595810271.jpg'\n",
    "\n",
    "results = model(img)\n",
    "results.print()\n",
    "\n",
    "%matplotlib inline \n",
    "plt.imshow(np.squeeze(results.render()))\n",
    "plt.show()"
   ]
  },
  {
   "cell_type": "markdown",
   "id": "70421bda",
   "metadata": {},
   "source": [
    "# 3.2 Realtime Detection w/ Webcam"
   ]
  },
  {
   "cell_type": "markdown",
   "id": "97da28c1",
   "metadata": {},
   "source": [
    "### Diary:\n",
    "1. 18/12 FPS Display, Automatic Counter for GauzeIn\n",
    "2. 20/12 Hand Detection pauses counter\n",
    "\n",
    "### Things to add:\n",
    "1. Saving function\n",
    "2. GUI"
   ]
  },
  {
   "cell_type": "code",
   "execution_count": null,
   "id": "eccc43af",
   "metadata": {},
   "outputs": [],
   "source": [
    "count = 0 ##\n",
    "countIn = 0 ##Gauze In\n",
    "condition = 5\n",
    "i,j = 0,0\n",
    "fps = 0\n",
    "startTime, endTime = 0,0\n",
    "working = 0\n",
    "cap = cv2.VideoCapture(0)\n",
    "\n",
    "while True:\n",
    "    ret, frame = cap.read()\n",
    "\n",
    "    # Make detections\n",
    "    results = model(frame)\n",
    "\n",
    "    # Make Counter Calculations\n",
    "    a,b = 0,0\n",
    "    for detection in results.xywh[0]:\n",
    "        if detection[5].item() in model.classes[1:]:\n",
    "            a += 1\n",
    "        if detection[5].item() == 0:\n",
    "            b += 1\n",
    "    if b == 0:\n",
    "        tempcount = a\n",
    "        if tempcount != count:\n",
    "            i += 1\n",
    "            if i == condition:\n",
    "                if tempcount > count:\n",
    "                    countIn += tempcount - count\n",
    "                count = tempcount\n",
    "                working = countIn - count\n",
    "        else:\n",
    "            i = 0\n",
    "        image = np.squeeze(results.render())\n",
    "        cv2.putText(image, 'On Screen =' + str(count), (300,30), cv2.FONT_HERSHEY_SIMPLEX, 1, (255, 255, 255), 2, cv2.LINE_AA)\n",
    "        cv2.putText(image, 'Total In =' + str(countIn), (300,50), cv2.FONT_HERSHEY_SIMPLEX, 1, (255, 255, 255), 2, cv2.LINE_AA)\n",
    "        cv2.putText(image, 'Working =' + str(working), (300,70), cv2.FONT_HERSHEY_SIMPLEX, 1, (255, 255, 255), 2, cv2.LINE_AA)\n",
    "#         cv2.putText(image, \"FPS =\" + str(round(fps, 1)), (50,30), cv2.FONT_HERSHEY_SIMPLEX, 1, (255, 255, 255), 2, cv2.LINE_AA)\n",
    "        cv2.imshow('Gauze', image)\n",
    "    else:\n",
    "        image = np.squeeze(results.render())\n",
    "        cv2.putText(image, 'On Screen =' + 'Paused', (300,30), cv2.FONT_HERSHEY_SIMPLEX, 1, (255, 255, 255), 2, cv2.LINE_AA)\n",
    "        cv2.putText(image, 'Total In =' + 'Paused', (300,50), cv2.FONT_HERSHEY_SIMPLEX, 1, (255, 255, 255), 2, cv2.LINE_AA)\n",
    "        cv2.putText(image, 'Working =' + 'Paused', (300,70), cv2.FONT_HERSHEY_SIMPLEX, 1, (255, 255, 255), 2, cv2.LINE_AA)\n",
    "#         cv2.putText(image, \"FPS =\" + str(round(fps, 1)), (50,30), cv2.FONT_HERSHEY_SIMPLEX, 1, (255, 255, 255), 2, cv2.LINE_AA)\n",
    "        cv2.putText(image, 'Hand Detected', (200,400), cv2.FONT_HERSHEY_SIMPLEX, 1, (255, 255, 255), 2, cv2.LINE_AA)\n",
    "        cv2.imshow('Gauze', image)\n",
    "\n",
    "    if cv2.waitKey(10) & 0xFF == ord('q'):\n",
    "        break\n",
    "\n",
    "cap.release()\n",
    "cv2.destroyAllWindows()"
   ]
  }
 ],
 "metadata": {
  "kernelspec": {
   "display_name": "Python 3 (ipykernel)",
   "language": "python",
   "name": "python3"
  },
  "language_info": {
   "codemirror_mode": {
    "name": "ipython",
    "version": 3
   },
   "file_extension": ".py",
   "mimetype": "text/x-python",
   "name": "python",
   "nbconvert_exporter": "python",
   "pygments_lexer": "ipython3",
   "version": "3.8.15"
  }
 },
 "nbformat": 4,
 "nbformat_minor": 5
}
